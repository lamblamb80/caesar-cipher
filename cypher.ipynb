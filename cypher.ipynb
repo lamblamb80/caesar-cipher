{
 "cells": [
  {
   "cell_type": "code",
   "execution_count": 21,
   "metadata": {},
   "outputs": [
    {
     "name": "stdout",
     "output_type": "stream",
     "text": [
      "The translated phrase is:  ydut yjxy!!!\n"
     ]
    }
   ],
   "source": [
    "phrase = input(\"Please enter phrase to convert: \")\n",
    "length = int(len(phrase))\n",
    "translated = \"\"\n",
    "\n",
    "for i in range(length):\n",
    "    num = ord(phrase[i])\n",
    "    if (num >= 64) and (num <= 90):\n",
    "        num = num + 5\n",
    "        if (num > 90):\n",
    "            diff = num - 90\n",
    "            num = 64 + diff - 1\n",
    "    elif (num >= 97) and (num <= 122):\n",
    "        num = num + 5\n",
    "        if (num > 122):\n",
    "            diff = num - 122\n",
    "            num = 97 + diff - 1\n",
    "    ctr = chr(num)\n",
    "    translated += ctr\n",
    "    \n",
    "print(\"With a right shift of 5, the translated phrase is: \", translated)"
   ]
  },
  {
   "cell_type": "markdown",
   "metadata": {},
   "source": [
    "Pseudocode for Caesar Cipher:\n",
    "\n",
    "Input phrase request\n",
    "\n",
    "For loop length of phrase\n",
    "    Convert to unicode\n",
    "    Check if upper case range (64-90)\n",
    "        Check unicode number is beyond upper case range, determine difference, add difference to start of upper case range\n",
    "        Else just add 5 convert back to letter and add to new list\n",
    "    Check if lower case range (97-122)\n",
    "        Check unicode number is beyond lower case range, determine difference, add difference to start of lower case range\n",
    "        Else just add 5 convert back to letter and add to new list\n",
    "    Else pass\n",
    "\n",
    "print converted list"
   ]
  }
 ],
 "metadata": {
  "kernelspec": {
   "display_name": "Python 3",
   "language": "python",
   "name": "python3"
  },
  "language_info": {
   "codemirror_mode": {
    "name": "ipython",
    "version": 3
   },
   "file_extension": ".py",
   "mimetype": "text/x-python",
   "name": "python",
   "nbconvert_exporter": "python",
   "pygments_lexer": "ipython3",
   "version": "3.13.0"
  }
 },
 "nbformat": 4,
 "nbformat_minor": 2
}
